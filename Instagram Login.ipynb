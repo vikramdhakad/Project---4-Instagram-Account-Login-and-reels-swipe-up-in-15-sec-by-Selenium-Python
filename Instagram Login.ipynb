{
 "cells": [
  {
   "cell_type": "markdown",
   "id": "31093e1a",
   "metadata": {},
   "source": [
    "# Import Required Libraries"
   ]
  },
  {
   "cell_type": "code",
   "execution_count": 47,
   "id": "475a07a5",
   "metadata": {},
   "outputs": [],
   "source": [
    "import pandas as pd\n",
    "from time import sleep\n",
    "from selenium import webdriver\n",
    "from selenium.webdriver.common.by import By\n",
    "from selenium.webdriver.common.keys import Keys\n",
    "from selenium.webdriver.chrome.options import Options\n",
    "from selenium.webdriver.chrome.service import Service\n",
    "from webdriver_manager.chrome import ChromeDriverManager\n",
    "from selenium.webdriver.common.action_chains import ActionChains"
   ]
  },
  {
   "cell_type": "markdown",
   "id": "20d9f1ed",
   "metadata": {},
   "source": [
    "# SetUp the chrome and navigate the webpage"
   ]
  },
  {
   "cell_type": "code",
   "execution_count": 48,
   "id": "42327976",
   "metadata": {},
   "outputs": [],
   "source": [
    "chrome_options = Options()\n",
    "chrome_options.add_experimental_option(\"detach\",True)\n",
    "\n",
    "driver = webdriver.Chrome(service=Service(ChromeDriverManager().install()),options=chrome_options)\n",
    "\n",
    "driver.get(\"https://www.instagram.com/accounts/login/\")\n",
    "sleep(2)\n",
    "driver.maximize_window()"
   ]
  },
  {
   "cell_type": "markdown",
   "id": "e64634b7",
   "metadata": {},
   "source": [
    "# Login in Instagram"
   ]
  },
  {
   "cell_type": "code",
   "execution_count": 49,
   "id": "8015c7ab",
   "metadata": {},
   "outputs": [],
   "source": [
    "user = driver.find_element(By.XPATH,'//*[@id=\"loginForm\"]/div/div[1]/div/label/input')\n",
    "#Enter your instagram password\n",
    "user.send_keys(\"USER NAME\")\n",
    "\n",
    "paswrd = driver.find_element(By.XPATH,'//*[@id=\"loginForm\"]/div/div[2]/div/label/input')\n",
    "#Enter your instagram password\n",
    "paswrd.send_keys(\"PASSWORD\")\n",
    "\n",
    "submit = driver.find_element(By.XPATH,'//*[@id=\"loginForm\"]/div/div[3]/button')\n",
    "submit.click()"
   ]
  },
  {
   "cell_type": "code",
   "execution_count": 50,
   "id": "1e4d46bb",
   "metadata": {},
   "outputs": [],
   "source": [
    "info = driver.find_element(By.XPATH,'//div/div/div[1]/div[1]/div[2]/section/main/div/div/div/div/div')\n",
    "info.click()\n",
    "\n",
    "sleep(1)\n",
    "\n",
    "noti = driver.find_element(By.XPATH,'//div/div[2]/div/div/div/div/div[2]/div/div/div[3]/button[2]')\n",
    "noti.click()\n",
    "\n",
    "sleep(1)\n",
    "\n",
    "reels = driver.find_element(By.XPATH,'//div/div/div[2]/div/div/div[1]/div[1]/div[1]/div/div/div/div/div[2]/div[4]/span/div/a/div')\n",
    "reels.click()\n",
    "\n",
    "sleep(1)"
   ]
  },
  {
   "cell_type": "code",
   "execution_count": 51,
   "id": "2ca1e4b7",
   "metadata": {},
   "outputs": [],
   "source": [
    "audio = driver.find_element(By.XPATH,'(//div[@class=\"x1i10hfl xjqpnuy xa49m3k xqeqjp1 x2hbi6w x13fuv20 xu3j5b3 x1q0q8m5 x26u7qi x972fbf xcfux6l x1qhh985 xm0m39n x9f619 x1ypdohk xdl72j9 x2lah0s xe8uvvx xdj266r x11i5rnm xat24cr x1mh8g0r x2lwn1j xeuugli xexx8yu x4uap5 x18d9i69 xkhd6sd x1n2onr6 x16tdsg8 x1hl2dhg xggy1nq x1ja2u2z x1t137rt x1q0g3np x87ps6o x1lku1pv x1a2a7pz x6s0dn4 xbka19w x14yjl9h xudhj91 x18nykt9 xww2gxu x78zum5 x10w6t97 xl56j7k x6ikm8r x10wlt62 x1td3qas\"])[1]')\n",
    "audio.click()"
   ]
  },
  {
   "cell_type": "code",
   "execution_count": 54,
   "id": "f4a03b83",
   "metadata": {},
   "outputs": [],
   "source": [
    "element = driver.find_elements(By.XPATH,'//div[@class=\"x9f619 xjbqb8w x78zum5 x168nmei x13lgxp2 x5pf9jr xo71vjh xyamay9 x1pi30zi x1l90r2v x1swvt13 x1uhb9sk x1plvlek xryxfnj x1iyjqo2 x2lwn1j xeuugli x1q0g3np xqjyukv xuk3077 x1oa3qoh x1nhvcw1\"]')\n",
    "for i in element:\n",
    "    driver.execute_script(\"arguments[0].scrollIntoView();\", i)\n",
    "    #like = driver.find_element(By.XPATH,\"(//div[@class='x6s0dn4 x78zum5 xdt5ytf xl56j7k']/span)[1]\")\n",
    "    #like.click()\n",
    "    sleep(15)\n",
    "    #actions = ActionChains(driver)\n",
    "    #actions.move_to_element(element).perform()"
   ]
  },
  {
   "cell_type": "code",
   "execution_count": 55,
   "id": "506717b6",
   "metadata": {},
   "outputs": [],
   "source": [
    "driver.quit()"
   ]
  },
  {
   "cell_type": "code",
   "execution_count": null,
   "id": "09ed23ae",
   "metadata": {},
   "outputs": [],
   "source": []
  }
 ],
 "metadata": {
  "kernelspec": {
   "display_name": "Python 3 (ipykernel)",
   "language": "python",
   "name": "python3"
  },
  "language_info": {
   "codemirror_mode": {
    "name": "ipython",
    "version": 3
   },
   "file_extension": ".py",
   "mimetype": "text/x-python",
   "name": "python",
   "nbconvert_exporter": "python",
   "pygments_lexer": "ipython3",
   "version": "3.10.2"
  }
 },
 "nbformat": 4,
 "nbformat_minor": 5
}
